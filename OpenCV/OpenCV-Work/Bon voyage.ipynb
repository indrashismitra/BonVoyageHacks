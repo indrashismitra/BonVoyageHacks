{
 "cells": [
  {
   "cell_type": "code",
   "execution_count": null,
   "source": [
    "import cv2\r\n",
    "import cvzone\r\n",
    "from cvzone.SelfiSegmentationModule import SelfiSegmentation\r\n",
    "import os\r\n",
    "\r\n",
    "cap = cv2.VideoCapture(0)\r\n",
    "cap.set(3, 640)\r\n",
    "cap.set(4, 480)\r\n",
    "cap.set(cv2.CAP_PROP_FPS, 60)\r\n",
    "segmentor = SelfiSegmentation()\r\n",
    "fpsReader = cvzone.FPS()\r\n",
    "imgBg = cv2.imread(\"Images/1.jpg\")\r\n",
    "\r\n",
    "\r\n",
    "while True:\r\n",
    "    success,img=cap.read()\r\n",
    "    imgOut = segmentor.removeBG(img,imgBg,threshold=0.8)\r\n",
    "    imgStacked = cvzone.stackImages([img,imgOut], 2 , 1)\r\n",
    "    _, imgStacked = fpsReader.update(imgStacked,color=(0 , 0 , 255))\r\n",
    "    cv2.imshow(\"Image\",imgStacked)\r\n",
    "    cv2.waitKey(1)\r\n",
    "    \r\n"
   ],
   "outputs": [],
   "metadata": {}
  },
  {
   "cell_type": "code",
   "execution_count": null,
   "source": [],
   "outputs": [],
   "metadata": {}
  }
 ],
 "metadata": {
  "kernelspec": {
   "display_name": "Python 3",
   "language": "python",
   "name": "python3"
  },
  "language_info": {
   "codemirror_mode": {
    "name": "ipython",
    "version": 3
   },
   "file_extension": ".py",
   "mimetype": "text/x-python",
   "name": "python",
   "nbconvert_exporter": "python",
   "pygments_lexer": "ipython3",
   "version": "3.7.7"
  }
 },
 "nbformat": 4,
 "nbformat_minor": 4
}